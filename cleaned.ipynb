{
 "cells": [
  {
   "cell_type": "code",
   "execution_count": 17,
   "metadata": {},
   "outputs": [],
   "source": [
    "import yfinance as yf\n",
    "import pandas as pd"
   ]
  },
  {
   "cell_type": "code",
   "execution_count": 18,
   "metadata": {},
   "outputs": [],
   "source": [
    "def applyVolumeNormalizedVectorized(row, avgVol):\n",
    "    row['VolumeNormalized'] = (row['Volume'] - avgVol) / avgVol\n",
    "    return row\n",
    "\n",
    "def applyMovementNormalized(row, avgMovement):\n",
    "    row['MovemementNormalize'] = (row['Close'] - row['Open']) / avgMovement\n",
    "    return row\n",
    "\n",
    "\n",
    "def getData_vectorized(ticker='SPY', interval='1d'):\n",
    "    #gaterh the data\n",
    "    dat = yf.Ticker(ticker)\n",
    "    data = dat.history( period=\"10y\", interval=interval)\n",
    "\n",
    "    #vectorize the volume\n",
    "    avgVol = data['Volume'].mean()\n",
    "    #print(avgVol)\n",
    "    data = data.apply(applyVolumeNormalizedVectorized, avgVol=avgVol,  axis=1)\n",
    "\n",
    "    #vecotorize the movement\n",
    "    avgMovement = (data['Close']-data['Open']).mean()\n",
    "    data = data.apply(applyMovementNormalized, avgMovement=avgMovement, axis=1)\n",
    "    \n",
    "    return data"
   ]
  },
  {
   "cell_type": "code",
   "execution_count": 19,
   "metadata": {},
   "outputs": [],
   "source": [
    "def createSlidingWindows(data, sliding_window=5):\n",
    "    \n",
    "    megaDb = pd.DataFrame(columns=['startingDate', 'vol1', 'mov1', 'vol2', 'mov2', 'vol3', 'mov3', 'vol4', 'mov4', 'vol5', 'mov5']) # new db for the vectors\n",
    "    cleanDB = data[['VolumeNormalized', 'MovemementNormalize']]\n",
    "\n",
    "    #print(cleanDB)\n",
    "        \n",
    "    for i in range(len(cleanDB) - (sliding_window-1)):\n",
    "        ar = []\n",
    "        startingDate = cleanDB.iloc[i].name\n",
    "        ar.append(startingDate)\n",
    "    \n",
    "\n",
    "        for j in range(sliding_window):\n",
    "\n",
    "            ar.append(cleanDB.iloc[i+j].VolumeNormalized)\n",
    "            ar.append(cleanDB.iloc[i+j].MovemementNormalize)\n",
    "\n",
    "        \n",
    "        megaDb.loc[i] = ar\n",
    "        #print(ar)\n",
    "\n",
    "    return megaDb"
   ]
  },
  {
   "cell_type": "code",
   "execution_count": null,
   "metadata": {},
   "outputs": [],
   "source": [
    "data = getData_vectorized()\n",
    "slidingWindows = createSlidingWindows(data)"
   ]
  }
 ],
 "metadata": {
  "kernelspec": {
   "display_name": "Python 3",
   "language": "python",
   "name": "python3"
  },
  "language_info": {
   "codemirror_mode": {
    "name": "ipython",
    "version": 3
   },
   "file_extension": ".py",
   "mimetype": "text/x-python",
   "name": "python",
   "nbconvert_exporter": "python",
   "pygments_lexer": "ipython3",
   "version": "3.11.9"
  }
 },
 "nbformat": 4,
 "nbformat_minor": 2
}
